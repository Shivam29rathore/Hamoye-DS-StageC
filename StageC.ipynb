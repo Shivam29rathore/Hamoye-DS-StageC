{
  "nbformat": 4,
  "nbformat_minor": 0,
  "metadata": {
    "colab": {
      "name": "StageC.ipynb",
      "provenance": [],
      "collapsed_sections": []
    },
    "kernelspec": {
      "name": "python3",
      "display_name": "Python 3"
    }
  },
  "cells": [
    {
      "cell_type": "code",
      "metadata": {
        "id": "g82kCR6Jm7iG",
        "colab_type": "code",
        "colab": {}
      },
      "source": [
        "import pandas as pd \n",
        "import matplotlib.pyplot as plt \n",
        "import numpy as np\n",
        "\n",
        "import warnings\n",
        "warnings.filterwarnings('ignore')"
      ],
      "execution_count": null,
      "outputs": []
    },
    {
      "cell_type": "code",
      "metadata": {
        "id": "HgaQyysIm_0r",
        "colab_type": "code",
        "colab": {}
      },
      "source": [
        "df = pd.read_csv(\"https://archive.ics.uci.edu/ml/machine-learning-databases/00471/Data_for_UCI_named.csv\")"
      ],
      "execution_count": null,
      "outputs": []
    },
    {
      "cell_type": "code",
      "metadata": {
        "id": "c2UZ-vOInXYR",
        "colab_type": "code",
        "colab": {
          "base_uri": "https://localhost:8080/",
          "height": 204
        },
        "outputId": "de3f8650-dab4-449a-d05c-3d79fc612a4d"
      },
      "source": [
        "df.head()"
      ],
      "execution_count": null,
      "outputs": [
        {
          "output_type": "execute_result",
          "data": {
            "text/html": [
              "<div>\n",
              "<style scoped>\n",
              "    .dataframe tbody tr th:only-of-type {\n",
              "        vertical-align: middle;\n",
              "    }\n",
              "\n",
              "    .dataframe tbody tr th {\n",
              "        vertical-align: top;\n",
              "    }\n",
              "\n",
              "    .dataframe thead th {\n",
              "        text-align: right;\n",
              "    }\n",
              "</style>\n",
              "<table border=\"1\" class=\"dataframe\">\n",
              "  <thead>\n",
              "    <tr style=\"text-align: right;\">\n",
              "      <th></th>\n",
              "      <th>tau1</th>\n",
              "      <th>tau2</th>\n",
              "      <th>tau3</th>\n",
              "      <th>tau4</th>\n",
              "      <th>p1</th>\n",
              "      <th>p2</th>\n",
              "      <th>p3</th>\n",
              "      <th>p4</th>\n",
              "      <th>g1</th>\n",
              "      <th>g2</th>\n",
              "      <th>g3</th>\n",
              "      <th>g4</th>\n",
              "      <th>stab</th>\n",
              "      <th>stabf</th>\n",
              "    </tr>\n",
              "  </thead>\n",
              "  <tbody>\n",
              "    <tr>\n",
              "      <th>0</th>\n",
              "      <td>2.959060</td>\n",
              "      <td>3.079885</td>\n",
              "      <td>8.381025</td>\n",
              "      <td>9.780754</td>\n",
              "      <td>3.763085</td>\n",
              "      <td>-0.782604</td>\n",
              "      <td>-1.257395</td>\n",
              "      <td>-1.723086</td>\n",
              "      <td>0.650456</td>\n",
              "      <td>0.859578</td>\n",
              "      <td>0.887445</td>\n",
              "      <td>0.958034</td>\n",
              "      <td>0.055347</td>\n",
              "      <td>unstable</td>\n",
              "    </tr>\n",
              "    <tr>\n",
              "      <th>1</th>\n",
              "      <td>9.304097</td>\n",
              "      <td>4.902524</td>\n",
              "      <td>3.047541</td>\n",
              "      <td>1.369357</td>\n",
              "      <td>5.067812</td>\n",
              "      <td>-1.940058</td>\n",
              "      <td>-1.872742</td>\n",
              "      <td>-1.255012</td>\n",
              "      <td>0.413441</td>\n",
              "      <td>0.862414</td>\n",
              "      <td>0.562139</td>\n",
              "      <td>0.781760</td>\n",
              "      <td>-0.005957</td>\n",
              "      <td>stable</td>\n",
              "    </tr>\n",
              "    <tr>\n",
              "      <th>2</th>\n",
              "      <td>8.971707</td>\n",
              "      <td>8.848428</td>\n",
              "      <td>3.046479</td>\n",
              "      <td>1.214518</td>\n",
              "      <td>3.405158</td>\n",
              "      <td>-1.207456</td>\n",
              "      <td>-1.277210</td>\n",
              "      <td>-0.920492</td>\n",
              "      <td>0.163041</td>\n",
              "      <td>0.766689</td>\n",
              "      <td>0.839444</td>\n",
              "      <td>0.109853</td>\n",
              "      <td>0.003471</td>\n",
              "      <td>unstable</td>\n",
              "    </tr>\n",
              "    <tr>\n",
              "      <th>3</th>\n",
              "      <td>0.716415</td>\n",
              "      <td>7.669600</td>\n",
              "      <td>4.486641</td>\n",
              "      <td>2.340563</td>\n",
              "      <td>3.963791</td>\n",
              "      <td>-1.027473</td>\n",
              "      <td>-1.938944</td>\n",
              "      <td>-0.997374</td>\n",
              "      <td>0.446209</td>\n",
              "      <td>0.976744</td>\n",
              "      <td>0.929381</td>\n",
              "      <td>0.362718</td>\n",
              "      <td>0.028871</td>\n",
              "      <td>unstable</td>\n",
              "    </tr>\n",
              "    <tr>\n",
              "      <th>4</th>\n",
              "      <td>3.134112</td>\n",
              "      <td>7.608772</td>\n",
              "      <td>4.943759</td>\n",
              "      <td>9.857573</td>\n",
              "      <td>3.525811</td>\n",
              "      <td>-1.125531</td>\n",
              "      <td>-1.845975</td>\n",
              "      <td>-0.554305</td>\n",
              "      <td>0.797110</td>\n",
              "      <td>0.455450</td>\n",
              "      <td>0.656947</td>\n",
              "      <td>0.820923</td>\n",
              "      <td>0.049860</td>\n",
              "      <td>unstable</td>\n",
              "    </tr>\n",
              "  </tbody>\n",
              "</table>\n",
              "</div>"
            ],
            "text/plain": [
              "       tau1      tau2      tau3  ...        g4      stab     stabf\n",
              "0  2.959060  3.079885  8.381025  ...  0.958034  0.055347  unstable\n",
              "1  9.304097  4.902524  3.047541  ...  0.781760 -0.005957    stable\n",
              "2  8.971707  8.848428  3.046479  ...  0.109853  0.003471  unstable\n",
              "3  0.716415  7.669600  4.486641  ...  0.362718  0.028871  unstable\n",
              "4  3.134112  7.608772  4.943759  ...  0.820923  0.049860  unstable\n",
              "\n",
              "[5 rows x 14 columns]"
            ]
          },
          "metadata": {
            "tags": []
          },
          "execution_count": 3
        }
      ]
    },
    {
      "cell_type": "code",
      "metadata": {
        "id": "BwTaYmlInY7_",
        "colab_type": "code",
        "colab": {
          "base_uri": "https://localhost:8080/",
          "height": 204
        },
        "outputId": "252320e8-3986-448d-82ef-22f5a2f5b513"
      },
      "source": [
        "df.sample(5)"
      ],
      "execution_count": null,
      "outputs": [
        {
          "output_type": "execute_result",
          "data": {
            "text/html": [
              "<div>\n",
              "<style scoped>\n",
              "    .dataframe tbody tr th:only-of-type {\n",
              "        vertical-align: middle;\n",
              "    }\n",
              "\n",
              "    .dataframe tbody tr th {\n",
              "        vertical-align: top;\n",
              "    }\n",
              "\n",
              "    .dataframe thead th {\n",
              "        text-align: right;\n",
              "    }\n",
              "</style>\n",
              "<table border=\"1\" class=\"dataframe\">\n",
              "  <thead>\n",
              "    <tr style=\"text-align: right;\">\n",
              "      <th></th>\n",
              "      <th>tau1</th>\n",
              "      <th>tau2</th>\n",
              "      <th>tau3</th>\n",
              "      <th>tau4</th>\n",
              "      <th>p1</th>\n",
              "      <th>p2</th>\n",
              "      <th>p3</th>\n",
              "      <th>p4</th>\n",
              "      <th>g1</th>\n",
              "      <th>g2</th>\n",
              "      <th>g3</th>\n",
              "      <th>g4</th>\n",
              "      <th>stab</th>\n",
              "      <th>stabf</th>\n",
              "    </tr>\n",
              "  </thead>\n",
              "  <tbody>\n",
              "    <tr>\n",
              "      <th>7030</th>\n",
              "      <td>9.938786</td>\n",
              "      <td>3.475691</td>\n",
              "      <td>6.492763</td>\n",
              "      <td>1.185441</td>\n",
              "      <td>3.149949</td>\n",
              "      <td>-0.584189</td>\n",
              "      <td>-1.152772</td>\n",
              "      <td>-1.412989</td>\n",
              "      <td>0.384196</td>\n",
              "      <td>0.249536</td>\n",
              "      <td>0.067058</td>\n",
              "      <td>0.922036</td>\n",
              "      <td>-0.032816</td>\n",
              "      <td>stable</td>\n",
              "    </tr>\n",
              "    <tr>\n",
              "      <th>978</th>\n",
              "      <td>9.513874</td>\n",
              "      <td>6.772855</td>\n",
              "      <td>7.064591</td>\n",
              "      <td>4.981431</td>\n",
              "      <td>3.291036</td>\n",
              "      <td>-1.332718</td>\n",
              "      <td>-1.213551</td>\n",
              "      <td>-0.744766</td>\n",
              "      <td>0.445454</td>\n",
              "      <td>0.073120</td>\n",
              "      <td>0.734743</td>\n",
              "      <td>0.954858</td>\n",
              "      <td>0.055405</td>\n",
              "      <td>unstable</td>\n",
              "    </tr>\n",
              "    <tr>\n",
              "      <th>398</th>\n",
              "      <td>7.887232</td>\n",
              "      <td>5.835712</td>\n",
              "      <td>5.871384</td>\n",
              "      <td>7.242799</td>\n",
              "      <td>2.415331</td>\n",
              "      <td>-0.640760</td>\n",
              "      <td>-1.270158</td>\n",
              "      <td>-0.504413</td>\n",
              "      <td>0.424555</td>\n",
              "      <td>0.188771</td>\n",
              "      <td>0.724159</td>\n",
              "      <td>0.470315</td>\n",
              "      <td>0.045164</td>\n",
              "      <td>unstable</td>\n",
              "    </tr>\n",
              "    <tr>\n",
              "      <th>2948</th>\n",
              "      <td>6.358740</td>\n",
              "      <td>1.470855</td>\n",
              "      <td>8.471962</td>\n",
              "      <td>9.173121</td>\n",
              "      <td>4.677923</td>\n",
              "      <td>-1.808585</td>\n",
              "      <td>-1.098626</td>\n",
              "      <td>-1.770712</td>\n",
              "      <td>0.788158</td>\n",
              "      <td>0.970447</td>\n",
              "      <td>0.362754</td>\n",
              "      <td>0.189465</td>\n",
              "      <td>0.002365</td>\n",
              "      <td>unstable</td>\n",
              "    </tr>\n",
              "    <tr>\n",
              "      <th>567</th>\n",
              "      <td>8.642909</td>\n",
              "      <td>1.090504</td>\n",
              "      <td>9.943507</td>\n",
              "      <td>0.792266</td>\n",
              "      <td>4.267036</td>\n",
              "      <td>-1.103089</td>\n",
              "      <td>-1.428703</td>\n",
              "      <td>-1.735243</td>\n",
              "      <td>0.505170</td>\n",
              "      <td>0.344036</td>\n",
              "      <td>0.782769</td>\n",
              "      <td>0.732034</td>\n",
              "      <td>-0.010283</td>\n",
              "      <td>stable</td>\n",
              "    </tr>\n",
              "  </tbody>\n",
              "</table>\n",
              "</div>"
            ],
            "text/plain": [
              "          tau1      tau2      tau3  ...        g4      stab     stabf\n",
              "7030  9.938786  3.475691  6.492763  ...  0.922036 -0.032816    stable\n",
              "978   9.513874  6.772855  7.064591  ...  0.954858  0.055405  unstable\n",
              "398   7.887232  5.835712  5.871384  ...  0.470315  0.045164  unstable\n",
              "2948  6.358740  1.470855  8.471962  ...  0.189465  0.002365  unstable\n",
              "567   8.642909  1.090504  9.943507  ...  0.732034 -0.010283    stable\n",
              "\n",
              "[5 rows x 14 columns]"
            ]
          },
          "metadata": {
            "tags": []
          },
          "execution_count": 4
        }
      ]
    },
    {
      "cell_type": "code",
      "metadata": {
        "id": "_L3tVbgHnnry",
        "colab_type": "code",
        "colab": {
          "base_uri": "https://localhost:8080/",
          "height": 419
        },
        "outputId": "4c71cce8-9cdd-42a0-d9bf-3bf708b13d21"
      },
      "source": [
        "#Dropping 'stab'\n",
        "new_df=df.drop(\"stab\",axis=1)\n",
        "new_df"
      ],
      "execution_count": null,
      "outputs": [
        {
          "output_type": "execute_result",
          "data": {
            "text/html": [
              "<div>\n",
              "<style scoped>\n",
              "    .dataframe tbody tr th:only-of-type {\n",
              "        vertical-align: middle;\n",
              "    }\n",
              "\n",
              "    .dataframe tbody tr th {\n",
              "        vertical-align: top;\n",
              "    }\n",
              "\n",
              "    .dataframe thead th {\n",
              "        text-align: right;\n",
              "    }\n",
              "</style>\n",
              "<table border=\"1\" class=\"dataframe\">\n",
              "  <thead>\n",
              "    <tr style=\"text-align: right;\">\n",
              "      <th></th>\n",
              "      <th>tau1</th>\n",
              "      <th>tau2</th>\n",
              "      <th>tau3</th>\n",
              "      <th>tau4</th>\n",
              "      <th>p1</th>\n",
              "      <th>p2</th>\n",
              "      <th>p3</th>\n",
              "      <th>p4</th>\n",
              "      <th>g1</th>\n",
              "      <th>g2</th>\n",
              "      <th>g3</th>\n",
              "      <th>g4</th>\n",
              "      <th>stabf</th>\n",
              "    </tr>\n",
              "  </thead>\n",
              "  <tbody>\n",
              "    <tr>\n",
              "      <th>0</th>\n",
              "      <td>2.959060</td>\n",
              "      <td>3.079885</td>\n",
              "      <td>8.381025</td>\n",
              "      <td>9.780754</td>\n",
              "      <td>3.763085</td>\n",
              "      <td>-0.782604</td>\n",
              "      <td>-1.257395</td>\n",
              "      <td>-1.723086</td>\n",
              "      <td>0.650456</td>\n",
              "      <td>0.859578</td>\n",
              "      <td>0.887445</td>\n",
              "      <td>0.958034</td>\n",
              "      <td>unstable</td>\n",
              "    </tr>\n",
              "    <tr>\n",
              "      <th>1</th>\n",
              "      <td>9.304097</td>\n",
              "      <td>4.902524</td>\n",
              "      <td>3.047541</td>\n",
              "      <td>1.369357</td>\n",
              "      <td>5.067812</td>\n",
              "      <td>-1.940058</td>\n",
              "      <td>-1.872742</td>\n",
              "      <td>-1.255012</td>\n",
              "      <td>0.413441</td>\n",
              "      <td>0.862414</td>\n",
              "      <td>0.562139</td>\n",
              "      <td>0.781760</td>\n",
              "      <td>stable</td>\n",
              "    </tr>\n",
              "    <tr>\n",
              "      <th>2</th>\n",
              "      <td>8.971707</td>\n",
              "      <td>8.848428</td>\n",
              "      <td>3.046479</td>\n",
              "      <td>1.214518</td>\n",
              "      <td>3.405158</td>\n",
              "      <td>-1.207456</td>\n",
              "      <td>-1.277210</td>\n",
              "      <td>-0.920492</td>\n",
              "      <td>0.163041</td>\n",
              "      <td>0.766689</td>\n",
              "      <td>0.839444</td>\n",
              "      <td>0.109853</td>\n",
              "      <td>unstable</td>\n",
              "    </tr>\n",
              "    <tr>\n",
              "      <th>3</th>\n",
              "      <td>0.716415</td>\n",
              "      <td>7.669600</td>\n",
              "      <td>4.486641</td>\n",
              "      <td>2.340563</td>\n",
              "      <td>3.963791</td>\n",
              "      <td>-1.027473</td>\n",
              "      <td>-1.938944</td>\n",
              "      <td>-0.997374</td>\n",
              "      <td>0.446209</td>\n",
              "      <td>0.976744</td>\n",
              "      <td>0.929381</td>\n",
              "      <td>0.362718</td>\n",
              "      <td>unstable</td>\n",
              "    </tr>\n",
              "    <tr>\n",
              "      <th>4</th>\n",
              "      <td>3.134112</td>\n",
              "      <td>7.608772</td>\n",
              "      <td>4.943759</td>\n",
              "      <td>9.857573</td>\n",
              "      <td>3.525811</td>\n",
              "      <td>-1.125531</td>\n",
              "      <td>-1.845975</td>\n",
              "      <td>-0.554305</td>\n",
              "      <td>0.797110</td>\n",
              "      <td>0.455450</td>\n",
              "      <td>0.656947</td>\n",
              "      <td>0.820923</td>\n",
              "      <td>unstable</td>\n",
              "    </tr>\n",
              "    <tr>\n",
              "      <th>...</th>\n",
              "      <td>...</td>\n",
              "      <td>...</td>\n",
              "      <td>...</td>\n",
              "      <td>...</td>\n",
              "      <td>...</td>\n",
              "      <td>...</td>\n",
              "      <td>...</td>\n",
              "      <td>...</td>\n",
              "      <td>...</td>\n",
              "      <td>...</td>\n",
              "      <td>...</td>\n",
              "      <td>...</td>\n",
              "      <td>...</td>\n",
              "    </tr>\n",
              "    <tr>\n",
              "      <th>9995</th>\n",
              "      <td>2.930406</td>\n",
              "      <td>9.487627</td>\n",
              "      <td>2.376523</td>\n",
              "      <td>6.187797</td>\n",
              "      <td>3.343416</td>\n",
              "      <td>-0.658054</td>\n",
              "      <td>-1.449106</td>\n",
              "      <td>-1.236256</td>\n",
              "      <td>0.601709</td>\n",
              "      <td>0.779642</td>\n",
              "      <td>0.813512</td>\n",
              "      <td>0.608385</td>\n",
              "      <td>unstable</td>\n",
              "    </tr>\n",
              "    <tr>\n",
              "      <th>9996</th>\n",
              "      <td>3.392299</td>\n",
              "      <td>1.274827</td>\n",
              "      <td>2.954947</td>\n",
              "      <td>6.894759</td>\n",
              "      <td>4.349512</td>\n",
              "      <td>-1.663661</td>\n",
              "      <td>-0.952437</td>\n",
              "      <td>-1.733414</td>\n",
              "      <td>0.502079</td>\n",
              "      <td>0.567242</td>\n",
              "      <td>0.285880</td>\n",
              "      <td>0.366120</td>\n",
              "      <td>stable</td>\n",
              "    </tr>\n",
              "    <tr>\n",
              "      <th>9997</th>\n",
              "      <td>2.364034</td>\n",
              "      <td>2.842030</td>\n",
              "      <td>8.776391</td>\n",
              "      <td>1.008906</td>\n",
              "      <td>4.299976</td>\n",
              "      <td>-1.380719</td>\n",
              "      <td>-0.943884</td>\n",
              "      <td>-1.975373</td>\n",
              "      <td>0.487838</td>\n",
              "      <td>0.986505</td>\n",
              "      <td>0.149286</td>\n",
              "      <td>0.145984</td>\n",
              "      <td>stable</td>\n",
              "    </tr>\n",
              "    <tr>\n",
              "      <th>9998</th>\n",
              "      <td>9.631511</td>\n",
              "      <td>3.994398</td>\n",
              "      <td>2.757071</td>\n",
              "      <td>7.821347</td>\n",
              "      <td>2.514755</td>\n",
              "      <td>-0.966330</td>\n",
              "      <td>-0.649915</td>\n",
              "      <td>-0.898510</td>\n",
              "      <td>0.365246</td>\n",
              "      <td>0.587558</td>\n",
              "      <td>0.889118</td>\n",
              "      <td>0.818391</td>\n",
              "      <td>unstable</td>\n",
              "    </tr>\n",
              "    <tr>\n",
              "      <th>9999</th>\n",
              "      <td>6.530527</td>\n",
              "      <td>6.781790</td>\n",
              "      <td>4.349695</td>\n",
              "      <td>8.673138</td>\n",
              "      <td>3.492807</td>\n",
              "      <td>-1.390285</td>\n",
              "      <td>-1.532193</td>\n",
              "      <td>-0.570329</td>\n",
              "      <td>0.073056</td>\n",
              "      <td>0.505441</td>\n",
              "      <td>0.378761</td>\n",
              "      <td>0.942631</td>\n",
              "      <td>unstable</td>\n",
              "    </tr>\n",
              "  </tbody>\n",
              "</table>\n",
              "<p>10000 rows × 13 columns</p>\n",
              "</div>"
            ],
            "text/plain": [
              "          tau1      tau2      tau3  ...        g3        g4     stabf\n",
              "0     2.959060  3.079885  8.381025  ...  0.887445  0.958034  unstable\n",
              "1     9.304097  4.902524  3.047541  ...  0.562139  0.781760    stable\n",
              "2     8.971707  8.848428  3.046479  ...  0.839444  0.109853  unstable\n",
              "3     0.716415  7.669600  4.486641  ...  0.929381  0.362718  unstable\n",
              "4     3.134112  7.608772  4.943759  ...  0.656947  0.820923  unstable\n",
              "...        ...       ...       ...  ...       ...       ...       ...\n",
              "9995  2.930406  9.487627  2.376523  ...  0.813512  0.608385  unstable\n",
              "9996  3.392299  1.274827  2.954947  ...  0.285880  0.366120    stable\n",
              "9997  2.364034  2.842030  8.776391  ...  0.149286  0.145984    stable\n",
              "9998  9.631511  3.994398  2.757071  ...  0.889118  0.818391  unstable\n",
              "9999  6.530527  6.781790  4.349695  ...  0.378761  0.942631  unstable\n",
              "\n",
              "[10000 rows x 13 columns]"
            ]
          },
          "metadata": {
            "tags": []
          },
          "execution_count": 5
        }
      ]
    },
    {
      "cell_type": "code",
      "metadata": {
        "id": "rimbrcNSpN8C",
        "colab_type": "code",
        "colab": {
          "base_uri": "https://localhost:8080/",
          "height": 255
        },
        "outputId": "8905322e-15aa-4269-bbad-dd16c3121153"
      },
      "source": [
        "#Checking null values\n",
        "new_df.isnull().sum()"
      ],
      "execution_count": null,
      "outputs": [
        {
          "output_type": "execute_result",
          "data": {
            "text/plain": [
              "tau1     0\n",
              "tau2     0\n",
              "tau3     0\n",
              "tau4     0\n",
              "p1       0\n",
              "p2       0\n",
              "p3       0\n",
              "p4       0\n",
              "g1       0\n",
              "g2       0\n",
              "g3       0\n",
              "g4       0\n",
              "stabf    0\n",
              "dtype: int64"
            ]
          },
          "metadata": {
            "tags": []
          },
          "execution_count": 6
        }
      ]
    },
    {
      "cell_type": "code",
      "metadata": {
        "id": "mzbtrSUrp8Oj",
        "colab_type": "code",
        "colab": {
          "base_uri": "https://localhost:8080/",
          "height": 317
        },
        "outputId": "e66dcaef-6d32-4ab9-dc46-b9bc2c8f7d83"
      },
      "source": [
        "# Describing values\n",
        "new_df.describe()"
      ],
      "execution_count": null,
      "outputs": [
        {
          "output_type": "execute_result",
          "data": {
            "text/html": [
              "<div>\n",
              "<style scoped>\n",
              "    .dataframe tbody tr th:only-of-type {\n",
              "        vertical-align: middle;\n",
              "    }\n",
              "\n",
              "    .dataframe tbody tr th {\n",
              "        vertical-align: top;\n",
              "    }\n",
              "\n",
              "    .dataframe thead th {\n",
              "        text-align: right;\n",
              "    }\n",
              "</style>\n",
              "<table border=\"1\" class=\"dataframe\">\n",
              "  <thead>\n",
              "    <tr style=\"text-align: right;\">\n",
              "      <th></th>\n",
              "      <th>tau1</th>\n",
              "      <th>tau2</th>\n",
              "      <th>tau3</th>\n",
              "      <th>tau4</th>\n",
              "      <th>p1</th>\n",
              "      <th>p2</th>\n",
              "      <th>p3</th>\n",
              "      <th>p4</th>\n",
              "      <th>g1</th>\n",
              "      <th>g2</th>\n",
              "      <th>g3</th>\n",
              "      <th>g4</th>\n",
              "    </tr>\n",
              "  </thead>\n",
              "  <tbody>\n",
              "    <tr>\n",
              "      <th>count</th>\n",
              "      <td>10000.000000</td>\n",
              "      <td>10000.000000</td>\n",
              "      <td>10000.000000</td>\n",
              "      <td>10000.000000</td>\n",
              "      <td>10000.000000</td>\n",
              "      <td>10000.000000</td>\n",
              "      <td>10000.000000</td>\n",
              "      <td>10000.000000</td>\n",
              "      <td>10000.000000</td>\n",
              "      <td>10000.000000</td>\n",
              "      <td>10000.000000</td>\n",
              "      <td>10000.000000</td>\n",
              "    </tr>\n",
              "    <tr>\n",
              "      <th>mean</th>\n",
              "      <td>5.250000</td>\n",
              "      <td>5.250001</td>\n",
              "      <td>5.250004</td>\n",
              "      <td>5.249997</td>\n",
              "      <td>3.750000</td>\n",
              "      <td>-1.250000</td>\n",
              "      <td>-1.250000</td>\n",
              "      <td>-1.250000</td>\n",
              "      <td>0.525000</td>\n",
              "      <td>0.525000</td>\n",
              "      <td>0.525000</td>\n",
              "      <td>0.525000</td>\n",
              "    </tr>\n",
              "    <tr>\n",
              "      <th>std</th>\n",
              "      <td>2.742548</td>\n",
              "      <td>2.742549</td>\n",
              "      <td>2.742549</td>\n",
              "      <td>2.742556</td>\n",
              "      <td>0.752160</td>\n",
              "      <td>0.433035</td>\n",
              "      <td>0.433035</td>\n",
              "      <td>0.433035</td>\n",
              "      <td>0.274256</td>\n",
              "      <td>0.274255</td>\n",
              "      <td>0.274255</td>\n",
              "      <td>0.274255</td>\n",
              "    </tr>\n",
              "    <tr>\n",
              "      <th>min</th>\n",
              "      <td>0.500793</td>\n",
              "      <td>0.500141</td>\n",
              "      <td>0.500788</td>\n",
              "      <td>0.500473</td>\n",
              "      <td>1.582590</td>\n",
              "      <td>-1.999891</td>\n",
              "      <td>-1.999945</td>\n",
              "      <td>-1.999926</td>\n",
              "      <td>0.050009</td>\n",
              "      <td>0.050053</td>\n",
              "      <td>0.050054</td>\n",
              "      <td>0.050028</td>\n",
              "    </tr>\n",
              "    <tr>\n",
              "      <th>25%</th>\n",
              "      <td>2.874892</td>\n",
              "      <td>2.875140</td>\n",
              "      <td>2.875522</td>\n",
              "      <td>2.874950</td>\n",
              "      <td>3.218300</td>\n",
              "      <td>-1.624901</td>\n",
              "      <td>-1.625025</td>\n",
              "      <td>-1.624960</td>\n",
              "      <td>0.287521</td>\n",
              "      <td>0.287552</td>\n",
              "      <td>0.287514</td>\n",
              "      <td>0.287494</td>\n",
              "    </tr>\n",
              "    <tr>\n",
              "      <th>50%</th>\n",
              "      <td>5.250004</td>\n",
              "      <td>5.249981</td>\n",
              "      <td>5.249979</td>\n",
              "      <td>5.249734</td>\n",
              "      <td>3.751025</td>\n",
              "      <td>-1.249966</td>\n",
              "      <td>-1.249974</td>\n",
              "      <td>-1.250007</td>\n",
              "      <td>0.525009</td>\n",
              "      <td>0.525003</td>\n",
              "      <td>0.525015</td>\n",
              "      <td>0.525002</td>\n",
              "    </tr>\n",
              "    <tr>\n",
              "      <th>75%</th>\n",
              "      <td>7.624690</td>\n",
              "      <td>7.624893</td>\n",
              "      <td>7.624948</td>\n",
              "      <td>7.624838</td>\n",
              "      <td>4.282420</td>\n",
              "      <td>-0.874977</td>\n",
              "      <td>-0.875043</td>\n",
              "      <td>-0.875065</td>\n",
              "      <td>0.762435</td>\n",
              "      <td>0.762490</td>\n",
              "      <td>0.762440</td>\n",
              "      <td>0.762433</td>\n",
              "    </tr>\n",
              "    <tr>\n",
              "      <th>max</th>\n",
              "      <td>9.999469</td>\n",
              "      <td>9.999837</td>\n",
              "      <td>9.999450</td>\n",
              "      <td>9.999443</td>\n",
              "      <td>5.864418</td>\n",
              "      <td>-0.500108</td>\n",
              "      <td>-0.500072</td>\n",
              "      <td>-0.500025</td>\n",
              "      <td>0.999937</td>\n",
              "      <td>0.999944</td>\n",
              "      <td>0.999982</td>\n",
              "      <td>0.999930</td>\n",
              "    </tr>\n",
              "  </tbody>\n",
              "</table>\n",
              "</div>"
            ],
            "text/plain": [
              "               tau1          tau2  ...            g3            g4\n",
              "count  10000.000000  10000.000000  ...  10000.000000  10000.000000\n",
              "mean       5.250000      5.250001  ...      0.525000      0.525000\n",
              "std        2.742548      2.742549  ...      0.274255      0.274255\n",
              "min        0.500793      0.500141  ...      0.050054      0.050028\n",
              "25%        2.874892      2.875140  ...      0.287514      0.287494\n",
              "50%        5.250004      5.249981  ...      0.525015      0.525002\n",
              "75%        7.624690      7.624893  ...      0.762440      0.762433\n",
              "max        9.999469      9.999837  ...      0.999982      0.999930\n",
              "\n",
              "[8 rows x 12 columns]"
            ]
          },
          "metadata": {
            "tags": []
          },
          "execution_count": 7
        }
      ]
    },
    {
      "cell_type": "code",
      "metadata": {
        "id": "WDXhDOUKqn8i",
        "colab_type": "code",
        "colab": {}
      },
      "source": [
        "# Spliting into test and train data\n",
        "from sklearn.model_selection import train_test_split"
      ],
      "execution_count": null,
      "outputs": []
    },
    {
      "cell_type": "code",
      "metadata": {
        "id": "6kwPIX4rr07H",
        "colab_type": "code",
        "colab": {}
      },
      "source": [
        "x_data = new_df.drop(\"stabf\",axis=1)\n",
        "y_data = new_df[[\"stabf\"]]"
      ],
      "execution_count": null,
      "outputs": []
    },
    {
      "cell_type": "code",
      "metadata": {
        "id": "3mKuSeborW-v",
        "colab_type": "code",
        "colab": {}
      },
      "source": [
        "x_train,x_test,y_train,y_test = train_test_split(x_data,y_data,test_size=0.2,random_state=1)"
      ],
      "execution_count": null,
      "outputs": []
    },
    {
      "cell_type": "code",
      "metadata": {
        "id": "HGHb0JNCs4Gv",
        "colab_type": "code",
        "colab": {}
      },
      "source": [
        "# Standard Scaler\n",
        "from sklearn.preprocessing import StandardScaler"
      ],
      "execution_count": null,
      "outputs": []
    },
    {
      "cell_type": "code",
      "metadata": {
        "id": "wUBuqvHztor8",
        "colab_type": "code",
        "colab": {}
      },
      "source": [
        "SCALE = StandardScaler()"
      ],
      "execution_count": null,
      "outputs": []
    },
    {
      "cell_type": "code",
      "metadata": {
        "id": "Mw_KwpXQuAwk",
        "colab_type": "code",
        "colab": {
          "base_uri": "https://localhost:8080/",
          "height": 34
        },
        "outputId": "3891c077-f2ac-478b-fbe4-907ea91346aa"
      },
      "source": [
        "SCALE.fit(x_data)"
      ],
      "execution_count": null,
      "outputs": [
        {
          "output_type": "execute_result",
          "data": {
            "text/plain": [
              "StandardScaler(copy=True, with_mean=True, with_std=True)"
            ]
          },
          "metadata": {
            "tags": []
          },
          "execution_count": 13
        }
      ]
    },
    {
      "cell_type": "code",
      "metadata": {
        "id": "S117gTpvuIYX",
        "colab_type": "code",
        "colab": {}
      },
      "source": [
        "X_train_Scaled=pd.DataFrame(SCALE.fit_transform(x_train), columns=x_train.columns)\n",
        "X_test_Scaled=pd.DataFrame(SCALE.transform(x_test), columns=x_test.columns)\n"
      ],
      "execution_count": null,
      "outputs": []
    },
    {
      "cell_type": "code",
      "metadata": {
        "id": "gAD3xVjJuUfY",
        "colab_type": "code",
        "colab": {
          "base_uri": "https://localhost:8080/",
          "height": 289
        },
        "outputId": "0c59179a-5795-4ab8-d901-4e8d52c0bf42"
      },
      "source": [
        "X_train_Scaled.head()\n",
        "print(X_train_Scaled.head())\n",
        "print(X_test_Scaled.head())\n",
        "y_train=y_train.reset_index(drop=True)"
      ],
      "execution_count": null,
      "outputs": [
        {
          "output_type": "stream",
          "text": [
            "       tau1      tau2      tau3  ...        g2        g3        g4\n",
            "0  0.367327 -0.986042  0.650447  ...  0.339859  0.585568  0.492239\n",
            "1 -0.064659  0.089437  1.035079  ... -1.558488  1.429649 -1.443521\n",
            "2 -1.467850  1.298418 -0.502536  ...  1.451534 -1.045743  0.492489\n",
            "3  0.820081  0.529920  1.299657  ...  1.361958  1.604140  0.275303\n",
            "4  0.665424 -1.425627  0.312300  ...  0.695660  1.137504 -1.312575\n",
            "\n",
            "[5 rows x 12 columns]\n",
            "       tau1      tau2      tau3  ...        g2        g3        g4\n",
            "0  0.593951 -0.412733  1.503924  ...  1.167203 -1.507330  1.084726\n",
            "1  0.202190  0.374416 -0.188800  ... -0.395660  1.414651  1.226011\n",
            "2 -1.079044 -0.313745 -0.884634  ... -1.438495  0.651821 -1.682168\n",
            "3 -0.083120 -1.107327  0.372805  ... -1.672322 -0.357714  1.055865\n",
            "4  0.873921  1.438466  0.086662  ... -1.469731  0.956396 -0.819727\n",
            "\n",
            "[5 rows x 12 columns]\n"
          ],
          "name": "stdout"
        }
      ]
    },
    {
      "cell_type": "code",
      "metadata": {
        "id": "20kHsuAWvfha",
        "colab_type": "code",
        "colab": {
          "base_uri": "https://localhost:8080/",
          "height": 255
        },
        "outputId": "12e599cb-786c-4982-e5e0-f18cec43ab9a"
      },
      "source": [
        "y_test=y_test.reset_index(drop=True)\n",
        "print(y_test)"
      ],
      "execution_count": null,
      "outputs": [
        {
          "output_type": "stream",
          "text": [
            "         stabf\n",
            "0     unstable\n",
            "1     unstable\n",
            "2       stable\n",
            "3       stable\n",
            "4     unstable\n",
            "...        ...\n",
            "1995    stable\n",
            "1996    stable\n",
            "1997    stable\n",
            "1998  unstable\n",
            "1999  unstable\n",
            "\n",
            "[2000 rows x 1 columns]\n"
          ],
          "name": "stdout"
        }
      ]
    },
    {
      "cell_type": "code",
      "metadata": {
        "id": "5dyUSeY_z2tx",
        "colab_type": "code",
        "colab": {
          "base_uri": "https://localhost:8080/",
          "height": 745
        },
        "outputId": "4c723ded-b83c-4fe1-ffe6-9d1b42cb5d4f"
      },
      "source": [
        "from sklearn.preprocessing import LabelEncoder\n",
        "encoder = LabelEncoder()\n",
        "y_train =pd.DataFrame(encoder.fit_transform(y_train.reset_index(drop=True)), columns=y_train.columns)\n",
        "y_test = pd.DataFrame(encoder.transform(y_test.reset_index(drop=True)),columns=y_test.columns) \n",
        "print(y_test)\n",
        "y_train"
      ],
      "execution_count": null,
      "outputs": [
        {
          "output_type": "stream",
          "text": [
            "      stabf\n",
            "0         1\n",
            "1         1\n",
            "2         0\n",
            "3         0\n",
            "4         1\n",
            "...     ...\n",
            "1995      0\n",
            "1996      0\n",
            "1997      0\n",
            "1998      1\n",
            "1999      1\n",
            "\n",
            "[2000 rows x 1 columns]\n"
          ],
          "name": "stdout"
        },
        {
          "output_type": "stream",
          "text": [
            "/usr/local/lib/python3.6/dist-packages/sklearn/preprocessing/_label.py:251: DataConversionWarning: A column-vector y was passed when a 1d array was expected. Please change the shape of y to (n_samples, ), for example using ravel().\n",
            "  y = column_or_1d(y, warn=True)\n",
            "/usr/local/lib/python3.6/dist-packages/sklearn/preprocessing/_label.py:268: DataConversionWarning: A column-vector y was passed when a 1d array was expected. Please change the shape of y to (n_samples, ), for example using ravel().\n",
            "  y = column_or_1d(y, warn=True)\n"
          ],
          "name": "stderr"
        },
        {
          "output_type": "execute_result",
          "data": {
            "text/html": [
              "<div>\n",
              "<style scoped>\n",
              "    .dataframe tbody tr th:only-of-type {\n",
              "        vertical-align: middle;\n",
              "    }\n",
              "\n",
              "    .dataframe tbody tr th {\n",
              "        vertical-align: top;\n",
              "    }\n",
              "\n",
              "    .dataframe thead th {\n",
              "        text-align: right;\n",
              "    }\n",
              "</style>\n",
              "<table border=\"1\" class=\"dataframe\">\n",
              "  <thead>\n",
              "    <tr style=\"text-align: right;\">\n",
              "      <th></th>\n",
              "      <th>stabf</th>\n",
              "    </tr>\n",
              "  </thead>\n",
              "  <tbody>\n",
              "    <tr>\n",
              "      <th>0</th>\n",
              "      <td>1</td>\n",
              "    </tr>\n",
              "    <tr>\n",
              "      <th>1</th>\n",
              "      <td>1</td>\n",
              "    </tr>\n",
              "    <tr>\n",
              "      <th>2</th>\n",
              "      <td>1</td>\n",
              "    </tr>\n",
              "    <tr>\n",
              "      <th>3</th>\n",
              "      <td>1</td>\n",
              "    </tr>\n",
              "    <tr>\n",
              "      <th>4</th>\n",
              "      <td>1</td>\n",
              "    </tr>\n",
              "    <tr>\n",
              "      <th>...</th>\n",
              "      <td>...</td>\n",
              "    </tr>\n",
              "    <tr>\n",
              "      <th>7995</th>\n",
              "      <td>0</td>\n",
              "    </tr>\n",
              "    <tr>\n",
              "      <th>7996</th>\n",
              "      <td>0</td>\n",
              "    </tr>\n",
              "    <tr>\n",
              "      <th>7997</th>\n",
              "      <td>1</td>\n",
              "    </tr>\n",
              "    <tr>\n",
              "      <th>7998</th>\n",
              "      <td>1</td>\n",
              "    </tr>\n",
              "    <tr>\n",
              "      <th>7999</th>\n",
              "      <td>0</td>\n",
              "    </tr>\n",
              "  </tbody>\n",
              "</table>\n",
              "<p>8000 rows × 1 columns</p>\n",
              "</div>"
            ],
            "text/plain": [
              "      stabf\n",
              "0         1\n",
              "1         1\n",
              "2         1\n",
              "3         1\n",
              "4         1\n",
              "...     ...\n",
              "7995      0\n",
              "7996      0\n",
              "7997      1\n",
              "7998      1\n",
              "7999      0\n",
              "\n",
              "[8000 rows x 1 columns]"
            ]
          },
          "metadata": {
            "tags": []
          },
          "execution_count": 17
        }
      ]
    },
    {
      "cell_type": "code",
      "metadata": {
        "id": "ILDb-tSu0Jn8",
        "colab_type": "code",
        "colab": {}
      },
      "source": [
        "# Training the Random forest classifier"
      ],
      "execution_count": null,
      "outputs": []
    },
    {
      "cell_type": "code",
      "metadata": {
        "id": "d63Okh7z2-UK",
        "colab_type": "code",
        "colab": {}
      },
      "source": [
        "from sklearn.ensemble import RandomForestClassifier"
      ],
      "execution_count": null,
      "outputs": []
    },
    {
      "cell_type": "code",
      "metadata": {
        "id": "Ksjd6SFJ3LvX",
        "colab_type": "code",
        "colab": {
          "base_uri": "https://localhost:8080/",
          "height": 88
        },
        "outputId": "cbd715a0-240d-46aa-e7fb-f1d3425d7971"
      },
      "source": [
        "rf = RandomForestClassifier(n_estimators=100,random_state=1)\n",
        "rf.fit(X_train_Scaled,y_train)\n",
        "\n",
        "pred_y=rf.predict(X_test_Scaled)\n",
        "pred_y"
      ],
      "execution_count": null,
      "outputs": [
        {
          "output_type": "stream",
          "text": [
            "/usr/local/lib/python3.6/dist-packages/ipykernel_launcher.py:2: DataConversionWarning: A column-vector y was passed when a 1d array was expected. Please change the shape of y to (n_samples,), for example using ravel().\n",
            "  \n"
          ],
          "name": "stderr"
        },
        {
          "output_type": "execute_result",
          "data": {
            "text/plain": [
              "array([1, 1, 0, ..., 0, 0, 1])"
            ]
          },
          "metadata": {
            "tags": []
          },
          "execution_count": 20
        }
      ]
    },
    {
      "cell_type": "code",
      "metadata": {
        "id": "7EbNUoqY57wt",
        "colab_type": "code",
        "colab": {}
      },
      "source": [
        "# Statistical Report\n",
        "\n",
        "from sklearn.metrics import classification_report,confusion_matrix,accuracy_score"
      ],
      "execution_count": null,
      "outputs": []
    },
    {
      "cell_type": "code",
      "metadata": {
        "id": "foUU_b_u7fSK",
        "colab_type": "code",
        "colab": {
          "base_uri": "https://localhost:8080/",
          "height": 221
        },
        "outputId": "e215ad5d-98ad-47e9-9c6d-e3ab1b8dfbe0"
      },
      "source": [
        "print(confusion_matrix(y_test,pred_y))\n",
        "print(classification_report(y_test,pred_y))\n",
        "print(accuracy_score(y_test, pred_y))"
      ],
      "execution_count": null,
      "outputs": [
        {
          "output_type": "stream",
          "text": [
            "[[ 625   87]\n",
            " [  55 1233]]\n",
            "              precision    recall  f1-score   support\n",
            "\n",
            "           0       0.92      0.88      0.90       712\n",
            "           1       0.93      0.96      0.95      1288\n",
            "\n",
            "    accuracy                           0.93      2000\n",
            "   macro avg       0.93      0.92      0.92      2000\n",
            "weighted avg       0.93      0.93      0.93      2000\n",
            "\n",
            "0.929\n"
          ],
          "name": "stdout"
        }
      ]
    },
    {
      "cell_type": "code",
      "metadata": {
        "id": "McFT27447kO_",
        "colab_type": "code",
        "colab": {}
      },
      "source": [
        "# XGBoost Classifier training\n",
        "\n",
        "from xgboost import XGBClassifier"
      ],
      "execution_count": 66,
      "outputs": []
    },
    {
      "cell_type": "code",
      "metadata": {
        "id": "3svcWncd8sTN",
        "colab_type": "code",
        "colab": {
          "base_uri": "https://localhost:8080/",
          "height": 224
        },
        "outputId": "f79f4e9a-3ecb-4916-c62f-850528f7d760"
      },
      "source": [
        "model = XGBClassifier()\n",
        "model.fit(X_train_Scaled, y_train)"
      ],
      "execution_count": null,
      "outputs": [
        {
          "output_type": "stream",
          "text": [
            "/usr/local/lib/python3.6/dist-packages/sklearn/preprocessing/_label.py:235: DataConversionWarning: A column-vector y was passed when a 1d array was expected. Please change the shape of y to (n_samples, ), for example using ravel().\n",
            "  y = column_or_1d(y, warn=True)\n",
            "/usr/local/lib/python3.6/dist-packages/sklearn/preprocessing/_label.py:268: DataConversionWarning: A column-vector y was passed when a 1d array was expected. Please change the shape of y to (n_samples, ), for example using ravel().\n",
            "  y = column_or_1d(y, warn=True)\n"
          ],
          "name": "stderr"
        },
        {
          "output_type": "execute_result",
          "data": {
            "text/plain": [
              "XGBClassifier(base_score=0.5, booster='gbtree', colsample_bylevel=1,\n",
              "              colsample_bynode=1, colsample_bytree=1, gamma=0,\n",
              "              learning_rate=0.1, max_delta_step=0, max_depth=3,\n",
              "              min_child_weight=1, missing=None, n_estimators=100, n_jobs=1,\n",
              "              nthread=None, objective='binary:logistic', random_state=0,\n",
              "              reg_alpha=0, reg_lambda=1, scale_pos_weight=1, seed=None,\n",
              "              silent=None, subsample=1, verbosity=1)"
            ]
          },
          "metadata": {
            "tags": []
          },
          "execution_count": 24
        }
      ]
    },
    {
      "cell_type": "code",
      "metadata": {
        "id": "2FgL_WpE9Qvl",
        "colab_type": "code",
        "colab": {
          "base_uri": "https://localhost:8080/",
          "height": 136
        },
        "outputId": "9d026e3a-30ce-4d17-818e-abe797f0b614"
      },
      "source": [
        "1\n",
        "print(model)"
      ],
      "execution_count": null,
      "outputs": [
        {
          "output_type": "stream",
          "text": [
            "XGBClassifier(base_score=0.5, booster='gbtree', colsample_bylevel=1,\n",
            "              colsample_bynode=1, colsample_bytree=1, gamma=0,\n",
            "              learning_rate=0.1, max_delta_step=0, max_depth=3,\n",
            "              min_child_weight=1, missing=None, n_estimators=100, n_jobs=1,\n",
            "              nthread=None, objective='binary:logistic', random_state=0,\n",
            "              reg_alpha=0, reg_lambda=1, scale_pos_weight=1, seed=None,\n",
            "              silent=None, subsample=1, verbosity=1)\n"
          ],
          "name": "stdout"
        }
      ]
    },
    {
      "cell_type": "code",
      "metadata": {
        "id": "1N5up7C69U10",
        "colab_type": "code",
        "colab": {}
      },
      "source": [
        "\n",
        "\n",
        "# make predictions for test data\n",
        "y_pred = model.predict(X_test_Scaled)\n",
        "predictions = [round(value) for value in y_pred]\n"
      ],
      "execution_count": null,
      "outputs": []
    },
    {
      "cell_type": "code",
      "metadata": {
        "id": "QWNRY-xk9iGD",
        "colab_type": "code",
        "colab": {
          "base_uri": "https://localhost:8080/",
          "height": 34
        },
        "outputId": "dcf97739-59fb-45b3-b529-bf066b2af78c"
      },
      "source": [
        "#Accuracy\n",
        "accuracy = accuracy_score(y_test, predictions)\n",
        "print(\"Accuracy:\",accuracy)"
      ],
      "execution_count": null,
      "outputs": [
        {
          "output_type": "stream",
          "text": [
            "Accuracy: 0.9195\n"
          ],
          "name": "stdout"
        }
      ]
    },
    {
      "cell_type": "code",
      "metadata": {
        "id": "SOEnr38j-J3p",
        "colab_type": "code",
        "colab": {}
      },
      "source": [
        "# LGBM Classifier Training"
      ],
      "execution_count": null,
      "outputs": []
    },
    {
      "cell_type": "code",
      "metadata": {
        "id": "FOqCu8fW_SBV",
        "colab_type": "code",
        "colab": {}
      },
      "source": [
        "from lightgbm import LGBMClassifier"
      ],
      "execution_count": null,
      "outputs": []
    },
    {
      "cell_type": "code",
      "metadata": {
        "id": "eG8foipB_Sh2",
        "colab_type": "code",
        "colab": {}
      },
      "source": [
        "model = LGBMClassifier()"
      ],
      "execution_count": null,
      "outputs": []
    },
    {
      "cell_type": "code",
      "metadata": {
        "id": "sp-rQhIxAQV0",
        "colab_type": "code",
        "colab": {
          "base_uri": "https://localhost:8080/",
          "height": 105
        },
        "outputId": "9fe43e71-5001-4e68-9116-5d01b2aec050"
      },
      "source": [
        "model.fit(X_train_Scaled,y_train)\n",
        "pred_y=model.predict(X_test_Scaled)"
      ],
      "execution_count": null,
      "outputs": [
        {
          "output_type": "stream",
          "text": [
            "/usr/local/lib/python3.6/dist-packages/sklearn/preprocessing/_label.py:235: DataConversionWarning: A column-vector y was passed when a 1d array was expected. Please change the shape of y to (n_samples, ), for example using ravel().\n",
            "  y = column_or_1d(y, warn=True)\n",
            "/usr/local/lib/python3.6/dist-packages/sklearn/preprocessing/_label.py:268: DataConversionWarning: A column-vector y was passed when a 1d array was expected. Please change the shape of y to (n_samples, ), for example using ravel().\n",
            "  y = column_or_1d(y, warn=True)\n"
          ],
          "name": "stderr"
        }
      ]
    },
    {
      "cell_type": "code",
      "metadata": {
        "id": "ZxjD9NEzAZtH",
        "colab_type": "code",
        "colab": {
          "base_uri": "https://localhost:8080/",
          "height": 255
        },
        "outputId": "77b6b3d3-118b-48ea-81fe-e69d47d41221"
      },
      "source": [
        "def score_data(y_test,pred_y):\n",
        "  print(\"\\n CONFUSION MATRIX \\n\", confusion_matrix(y_test,pred_y))\n",
        "  print(classification_report(y_test,pred_y))\n",
        "  print(\"Accuracy Score is: \", accuracy_score(y_test, pred_y))\n",
        "\n",
        "\n",
        "score_data(y_test, pred_y)"
      ],
      "execution_count": null,
      "outputs": [
        {
          "output_type": "stream",
          "text": [
            "\n",
            " CONFUSION MATRIX \n",
            " [[ 635   77]\n",
            " [  48 1240]]\n",
            "              precision    recall  f1-score   support\n",
            "\n",
            "           0       0.93      0.89      0.91       712\n",
            "           1       0.94      0.96      0.95      1288\n",
            "\n",
            "    accuracy                           0.94      2000\n",
            "   macro avg       0.94      0.93      0.93      2000\n",
            "weighted avg       0.94      0.94      0.94      2000\n",
            "\n",
            "Accuracy Score is:  0.9375\n"
          ],
          "name": "stdout"
        }
      ]
    },
    {
      "cell_type": "code",
      "metadata": {
        "id": "CDWh6CPSA21y",
        "colab_type": "code",
        "colab": {
          "base_uri": "https://localhost:8080/",
          "height": 255
        },
        "outputId": "7ab9ad17-45b5-420d-ad60-4acf2ea5652d"
      },
      "source": [
        "# Extra Trees Classifier Training\n",
        "\n",
        "from sklearn.ensemble import ExtraTreesClassifier\n",
        "#ExtraTreesClassifier\n",
        "from sklearn.ensemble import ExtraTreesClassifier\n",
        "ext_clf=ExtraTreesClassifier()\n",
        "ext_clf.fit(X_train_Scaled,y_train)\n",
        "pred_y=ext_clf.predict(X_test_Scaled)\n",
        "score_data(y_test, pred_y)"
      ],
      "execution_count": null,
      "outputs": [
        {
          "output_type": "stream",
          "text": [
            "\n",
            " CONFUSION MATRIX \n",
            " [[ 599  113]\n",
            " [  25 1263]]\n",
            "              precision    recall  f1-score   support\n",
            "\n",
            "           0       0.96      0.84      0.90       712\n",
            "           1       0.92      0.98      0.95      1288\n",
            "\n",
            "    accuracy                           0.93      2000\n",
            "   macro avg       0.94      0.91      0.92      2000\n",
            "weighted avg       0.93      0.93      0.93      2000\n",
            "\n",
            "Accuracy Score is:  0.931\n"
          ],
          "name": "stdout"
        }
      ]
    },
    {
      "cell_type": "code",
      "metadata": {
        "id": "Pdc1A-n7Be57",
        "colab_type": "code",
        "colab": {
          "base_uri": "https://localhost:8080/",
          "height": 153
        },
        "outputId": "a782e66d-a11a-4c30-c5c9-d907b511ca54"
      },
      "source": [
        "#HyperTuning ExtraTreesClassifier\n",
        "n_estimators = [50, 100, 300, 500, 1000]\n",
        "\n",
        "min_samples_split = [2, 3, 5, 7, 9]\n",
        "\n",
        "min_samples_leaf = [1, 2, 4, 6, 8]\n",
        "\n",
        "max_features = ['auto', 'sqrt', 'log2', None] \n",
        "\n",
        "hyperparameter_grid = {'n_estimators': n_estimators,'min_samples_leaf': min_samples_leaf,'min_samples_split': min_samples_split,'max_features': max_features}\n",
        "\n",
        "from sklearn.model_selection import RandomizedSearchCV\n",
        "etc_clf=ExtraTreesClassifier()\n",
        "rdm = RandomizedSearchCV(etc_clf, param_distributions = hyperparameter_grid, cv=5, n_iter=10, n_jobs=-1, verbose=1, random_state=1, scoring='accuracy')\n",
        "rdm.fit(X_train_Scaled, y_train)\n",
        "rdm.best_params_\n",
        "\n",
        "\n",
        "\n"
      ],
      "execution_count": null,
      "outputs": [
        {
          "output_type": "stream",
          "text": [
            "Fitting 5 folds for each of 10 candidates, totalling 50 fits\n"
          ],
          "name": "stdout"
        },
        {
          "output_type": "stream",
          "text": [
            "[Parallel(n_jobs=-1)]: Using backend LokyBackend with 2 concurrent workers.\n",
            "[Parallel(n_jobs=-1)]: Done  46 tasks      | elapsed:  1.5min\n",
            "[Parallel(n_jobs=-1)]: Done  50 out of  50 | elapsed:  1.5min finished\n"
          ],
          "name": "stderr"
        },
        {
          "output_type": "execute_result",
          "data": {
            "text/plain": [
              "{'max_features': None,\n",
              " 'min_samples_leaf': 8,\n",
              " 'min_samples_split': 2,\n",
              " 'n_estimators': 1000}"
            ]
          },
          "metadata": {
            "tags": []
          },
          "execution_count": 49
        }
      ]
    },
    {
      "cell_type": "code",
      "metadata": {
        "id": "_peBzX3liMHy",
        "colab_type": "code",
        "colab": {
          "base_uri": "https://localhost:8080/",
          "height": 255
        },
        "outputId": "dd41b909-7ec8-4a52-b7dc-a1e831370a96"
      },
      "source": [
        "etc_clf_opt=ExtraTreesClassifier(max_features=None,min_samples_leaf=8,min_samples_split=2, n_estimators=1000)\n",
        "etc_clf.fit(X_train_Scaled, y_train)\n",
        "pred_y=etc_clf.predict(X_test_Scaled)\n",
        "score_data(y_test, pred_y)"
      ],
      "execution_count": null,
      "outputs": [
        {
          "output_type": "stream",
          "text": [
            "\n",
            " CONFUSION MATRIX \n",
            " [[ 606  106]\n",
            " [  32 1256]]\n",
            "              precision    recall  f1-score   support\n",
            "\n",
            "           0       0.95      0.85      0.90       712\n",
            "           1       0.92      0.98      0.95      1288\n",
            "\n",
            "    accuracy                           0.93      2000\n",
            "   macro avg       0.94      0.91      0.92      2000\n",
            "weighted avg       0.93      0.93      0.93      2000\n",
            "\n",
            "Accuracy Score is:  0.931\n"
          ],
          "name": "stdout"
        }
      ]
    },
    {
      "cell_type": "markdown",
      "metadata": {
        "id": "AQ-Dnjb8nQGz",
        "colab_type": "text"
      },
      "source": [
        "The Accuracy for Optimal ExtraTrees Classifier is 0.928, whereas for Untuned ExtratreesClassifier is 0.931\n",
        "Thus, Optimal Model has lower accuracy than the initial model"
      ]
    },
    {
      "cell_type": "code",
      "metadata": {
        "id": "-faIlpSfm7oL",
        "colab_type": "code",
        "colab": {
          "base_uri": "https://localhost:8080/",
          "height": 323
        },
        "outputId": "43a17b06-c036-4d13-e1b2-dc2592e9b478"
      },
      "source": [
        "etc_clf_opt=ExtraTreesClassifier(max_features=None,min_samples_leaf=8,min_samples_split=2, n_estimators=1000)\n",
        "etc_clf_opt.fit(X_train_Scaled, y_train)\n",
        "pred_y=etc_clf_opt.predict(X_test_Scaled)\n",
        "score_data(y_test, pred_y)\n",
        "#Feature Importances for Optimal Model of ExtraTreesClassifier\n",
        "feature_imp=etc_clf_opt.feature_importances_\n",
        "\n",
        "xyz=pd.DataFrame(feature_imp, index=X_train_Scaled.columns, columns=['Importance'])\n",
        "print(\"Max Importance is of: \", xyz[['Importance']].idxmax())\n",
        "print(\"Min Importance is of: \", xyz[['Importance']].idxmin())"
      ],
      "execution_count": 65,
      "outputs": [
        {
          "output_type": "stream",
          "text": [
            "\n",
            " CONFUSION MATRIX \n",
            " [[ 622   90]\n",
            " [  54 1234]]\n",
            "              precision    recall  f1-score   support\n",
            "\n",
            "           0       0.92      0.87      0.90       712\n",
            "           1       0.93      0.96      0.94      1288\n",
            "\n",
            "    accuracy                           0.93      2000\n",
            "   macro avg       0.93      0.92      0.92      2000\n",
            "weighted avg       0.93      0.93      0.93      2000\n",
            "\n",
            "Accuracy Score is:  0.928\n",
            "Max Importance is of:  Importance    tau2\n",
            "dtype: object\n",
            "Min Importance is of:  Importance    p1\n",
            "dtype: object\n"
          ],
          "name": "stdout"
        }
      ]
    },
    {
      "cell_type": "code",
      "metadata": {
        "id": "qEN043C1nh3O",
        "colab_type": "code",
        "colab": {}
      },
      "source": [
        "\n"
      ],
      "execution_count": null,
      "outputs": []
    },
    {
      "cell_type": "code",
      "metadata": {
        "id": "ek4gYPmdojTb",
        "colab_type": "code",
        "colab": {}
      },
      "source": [
        ""
      ],
      "execution_count": null,
      "outputs": []
    }
  ]
}